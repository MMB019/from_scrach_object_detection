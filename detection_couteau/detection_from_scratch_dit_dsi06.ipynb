{
 "cells": [
  {
   "cell_type": "code",
   "execution_count": 1,
   "id": "fb6402a0",
   "metadata": {},
   "outputs": [
    {
     "name": "stderr",
     "output_type": "stream",
     "text": [
      "Cloning into 'yolov5'...\n"
     ]
    }
   ],
   "source": [
    "!git clone https://github.com/ultralytics/yolov5"
   ]
  },
  {
   "cell_type": "code",
   "execution_count": 3,
   "id": "518ae96b",
   "metadata": {},
   "outputs": [
    {
     "name": "stdout",
     "output_type": "stream",
     "text": [
      "C:\\Users\\a846864\\Documents\\solution_objection\\detection_couteau\\yolov5\n"
     ]
    }
   ],
   "source": [
    "cd yolov5"
   ]
  },
  {
   "cell_type": "code",
   "execution_count": 4,
   "id": "782f3f11",
   "metadata": {},
   "outputs": [
    {
     "name": "stdout",
     "output_type": "stream",
     "text": [
      "Requirement already satisfied: matplotlib>=3.2.2 in c:\\users\\a846864\\anaconda3\\lib\\site-packages (from -r requirements.txt (line 5)) (3.4.3)\n",
      "Requirement already satisfied: numpy>=1.18.5 in c:\\users\\a846864\\anaconda3\\lib\\site-packages (from -r requirements.txt (line 6)) (1.20.3)\n",
      "Requirement already satisfied: opencv-python>=4.1.1 in c:\\users\\a846864\\anaconda3\\lib\\site-packages (from -r requirements.txt (line 7)) (4.5.5.64)\n",
      "Requirement already satisfied: Pillow>=7.1.2 in c:\\users\\a846864\\anaconda3\\lib\\site-packages (from -r requirements.txt (line 8)) (8.4.0)\n",
      "Requirement already satisfied: PyYAML>=5.3.1 in c:\\users\\a846864\\anaconda3\\lib\\site-packages (from -r requirements.txt (line 9)) (6.0)\n",
      "Requirement already satisfied: requests>=2.23.0 in c:\\users\\a846864\\anaconda3\\lib\\site-packages (from -r requirements.txt (line 10)) (2.26.0)\n",
      "Requirement already satisfied: scipy>=1.4.1 in c:\\users\\a846864\\anaconda3\\lib\\site-packages (from -r requirements.txt (line 11)) (1.7.1)\n",
      "Requirement already satisfied: torch>=1.7.0 in c:\\users\\a846864\\anaconda3\\lib\\site-packages (from -r requirements.txt (line 12)) (1.11.0)\n",
      "Requirement already satisfied: torchvision>=0.8.1 in c:\\users\\a846864\\anaconda3\\lib\\site-packages (from -r requirements.txt (line 13)) (0.12.0)\n",
      "Requirement already satisfied: tqdm>=4.41.0 in c:\\users\\a846864\\anaconda3\\lib\\site-packages (from -r requirements.txt (line 14)) (4.62.3)\n",
      "Requirement already satisfied: tensorboard>=2.4.1 in c:\\users\\a846864\\anaconda3\\lib\\site-packages (from -r requirements.txt (line 17)) (2.9.0)\n",
      "Requirement already satisfied: pandas>=1.1.4 in c:\\users\\a846864\\anaconda3\\lib\\site-packages (from -r requirements.txt (line 21)) (1.3.4)\n",
      "Requirement already satisfied: seaborn>=0.11.0 in c:\\users\\a846864\\anaconda3\\lib\\site-packages (from -r requirements.txt (line 22)) (0.11.2)\n",
      "Requirement already satisfied: ipython in c:\\users\\a846864\\anaconda3\\lib\\site-packages (from -r requirements.txt (line 34)) (7.29.0)\n",
      "Requirement already satisfied: psutil in c:\\users\\a846864\\anaconda3\\lib\\site-packages (from -r requirements.txt (line 35)) (5.8.0)\n",
      "Requirement already satisfied: thop in c:\\users\\a846864\\anaconda3\\lib\\site-packages (from -r requirements.txt (line 36)) (0.0.31.post2005241907)\n",
      "Requirement already satisfied: python-dateutil>=2.7 in c:\\users\\a846864\\anaconda3\\lib\\site-packages (from matplotlib>=3.2.2->-r requirements.txt (line 5)) (2.8.2)\n",
      "Requirement already satisfied: cycler>=0.10 in c:\\users\\a846864\\anaconda3\\lib\\site-packages (from matplotlib>=3.2.2->-r requirements.txt (line 5)) (0.10.0)\n",
      "Requirement already satisfied: pyparsing>=2.2.1 in c:\\users\\a846864\\anaconda3\\lib\\site-packages (from matplotlib>=3.2.2->-r requirements.txt (line 5)) (3.0.4)\n",
      "Requirement already satisfied: kiwisolver>=1.0.1 in c:\\users\\a846864\\anaconda3\\lib\\site-packages (from matplotlib>=3.2.2->-r requirements.txt (line 5)) (1.3.1)\n",
      "Requirement already satisfied: idna<4,>=2.5 in c:\\users\\a846864\\anaconda3\\lib\\site-packages (from requests>=2.23.0->-r requirements.txt (line 10)) (3.2)\n",
      "Requirement already satisfied: urllib3<1.27,>=1.21.1 in c:\\users\\a846864\\anaconda3\\lib\\site-packages (from requests>=2.23.0->-r requirements.txt (line 10)) (1.26.7)\n",
      "Requirement already satisfied: certifi>=2017.4.17 in c:\\users\\a846864\\anaconda3\\lib\\site-packages (from requests>=2.23.0->-r requirements.txt (line 10)) (2021.10.8)\n",
      "Requirement already satisfied: charset-normalizer~=2.0.0 in c:\\users\\a846864\\anaconda3\\lib\\site-packages (from requests>=2.23.0->-r requirements.txt (line 10)) (2.0.4)\n",
      "Requirement already satisfied: typing_extensions in c:\\users\\a846864\\anaconda3\\lib\\site-packages (from torch>=1.7.0->-r requirements.txt (line 12)) (3.10.0.2)\n",
      "Requirement already satisfied: colorama in c:\\users\\a846864\\anaconda3\\lib\\site-packages (from tqdm>=4.41.0->-r requirements.txt (line 14)) (0.4.4)\n",
      "Requirement already satisfied: google-auth-oauthlib<0.5,>=0.4.1 in c:\\users\\a846864\\anaconda3\\lib\\site-packages (from tensorboard>=2.4.1->-r requirements.txt (line 17)) (0.4.6)\n",
      "Requirement already satisfied: setuptools>=41.0.0 in c:\\users\\a846864\\anaconda3\\lib\\site-packages (from tensorboard>=2.4.1->-r requirements.txt (line 17)) (58.0.4)\n",
      "Requirement already satisfied: tensorboard-plugin-wit>=1.6.0 in c:\\users\\a846864\\anaconda3\\lib\\site-packages (from tensorboard>=2.4.1->-r requirements.txt (line 17)) (1.8.1)\n",
      "Requirement already satisfied: absl-py>=0.4 in c:\\users\\a846864\\anaconda3\\lib\\site-packages (from tensorboard>=2.4.1->-r requirements.txt (line 17)) (1.0.0)\n",
      "Requirement already satisfied: grpcio>=1.24.3 in c:\\users\\a846864\\anaconda3\\lib\\site-packages (from tensorboard>=2.4.1->-r requirements.txt (line 17)) (1.46.3)\n",
      "Requirement already satisfied: werkzeug>=1.0.1 in c:\\users\\a846864\\anaconda3\\lib\\site-packages (from tensorboard>=2.4.1->-r requirements.txt (line 17)) (2.0.2)\n",
      "Requirement already satisfied: protobuf>=3.9.2 in c:\\users\\a846864\\anaconda3\\lib\\site-packages (from tensorboard>=2.4.1->-r requirements.txt (line 17)) (3.20.1)\n",
      "Requirement already satisfied: google-auth<3,>=1.6.3 in c:\\users\\a846864\\anaconda3\\lib\\site-packages (from tensorboard>=2.4.1->-r requirements.txt (line 17)) (2.6.6)\n",
      "Requirement already satisfied: markdown>=2.6.8 in c:\\users\\a846864\\anaconda3\\lib\\site-packages (from tensorboard>=2.4.1->-r requirements.txt (line 17)) (3.3.7)\n",
      "Requirement already satisfied: tensorboard-data-server<0.7.0,>=0.6.0 in c:\\users\\a846864\\anaconda3\\lib\\site-packages (from tensorboard>=2.4.1->-r requirements.txt (line 17)) (0.6.1)\n",
      "Requirement already satisfied: wheel>=0.26 in c:\\users\\a846864\\anaconda3\\lib\\site-packages (from tensorboard>=2.4.1->-r requirements.txt (line 17)) (0.37.0)\n",
      "Requirement already satisfied: pytz>=2017.3 in c:\\users\\a846864\\anaconda3\\lib\\site-packages (from pandas>=1.1.4->-r requirements.txt (line 21)) (2021.3)\n",
      "Requirement already satisfied: pygments in c:\\users\\a846864\\anaconda3\\lib\\site-packages (from ipython->-r requirements.txt (line 34)) (2.10.0)\n",
      "Requirement already satisfied: traitlets>=4.2 in c:\\users\\a846864\\anaconda3\\lib\\site-packages (from ipython->-r requirements.txt (line 34)) (5.1.0)\n",
      "Requirement already satisfied: prompt-toolkit!=3.0.0,!=3.0.1,<3.1.0,>=2.0.0 in c:\\users\\a846864\\anaconda3\\lib\\site-packages (from ipython->-r requirements.txt (line 34)) (3.0.20)\n",
      "Requirement already satisfied: matplotlib-inline in c:\\users\\a846864\\anaconda3\\lib\\site-packages (from ipython->-r requirements.txt (line 34)) (0.1.2)\n",
      "Requirement already satisfied: backcall in c:\\users\\a846864\\anaconda3\\lib\\site-packages (from ipython->-r requirements.txt (line 34)) (0.2.0)\n",
      "Requirement already satisfied: decorator in c:\\users\\a846864\\anaconda3\\lib\\site-packages (from ipython->-r requirements.txt (line 34)) (5.1.0)\n",
      "Requirement already satisfied: jedi>=0.16 in c:\\users\\a846864\\anaconda3\\lib\\site-packages (from ipython->-r requirements.txt (line 34)) (0.18.0)\n",
      "Requirement already satisfied: pickleshare in c:\\users\\a846864\\anaconda3\\lib\\site-packages (from ipython->-r requirements.txt (line 34)) (0.7.5)\n",
      "Requirement already satisfied: six in c:\\users\\a846864\\anaconda3\\lib\\site-packages (from absl-py>=0.4->tensorboard>=2.4.1->-r requirements.txt (line 17)) (1.16.0)\n",
      "Requirement already satisfied: rsa<5,>=3.1.4 in c:\\users\\a846864\\anaconda3\\lib\\site-packages (from google-auth<3,>=1.6.3->tensorboard>=2.4.1->-r requirements.txt (line 17)) (4.8)\n",
      "Requirement already satisfied: cachetools<6.0,>=2.0.0 in c:\\users\\a846864\\anaconda3\\lib\\site-packages (from google-auth<3,>=1.6.3->tensorboard>=2.4.1->-r requirements.txt (line 17)) (5.1.0)\n",
      "Requirement already satisfied: pyasn1-modules>=0.2.1 in c:\\users\\a846864\\anaconda3\\lib\\site-packages (from google-auth<3,>=1.6.3->tensorboard>=2.4.1->-r requirements.txt (line 17)) (0.2.8)\n",
      "Requirement already satisfied: requests-oauthlib>=0.7.0 in c:\\users\\a846864\\anaconda3\\lib\\site-packages (from google-auth-oauthlib<0.5,>=0.4.1->tensorboard>=2.4.1->-r requirements.txt (line 17)) (1.3.1)\n",
      "Requirement already satisfied: parso<0.9.0,>=0.8.0 in c:\\users\\a846864\\anaconda3\\lib\\site-packages (from jedi>=0.16->ipython->-r requirements.txt (line 34)) (0.8.2)\n",
      "Requirement already satisfied: importlib-metadata>=4.4 in c:\\users\\a846864\\anaconda3\\lib\\site-packages (from markdown>=2.6.8->tensorboard>=2.4.1->-r requirements.txt (line 17)) (4.8.1)\n",
      "Requirement already satisfied: zipp>=0.5 in c:\\users\\a846864\\anaconda3\\lib\\site-packages (from importlib-metadata>=4.4->markdown>=2.6.8->tensorboard>=2.4.1->-r requirements.txt (line 17)) (3.6.0)\n",
      "Requirement already satisfied: wcwidth in c:\\users\\a846864\\anaconda3\\lib\\site-packages (from prompt-toolkit!=3.0.0,!=3.0.1,<3.1.0,>=2.0.0->ipython->-r requirements.txt (line 34)) (0.2.5)\n",
      "Requirement already satisfied: pyasn1<0.5.0,>=0.4.6 in c:\\users\\a846864\\anaconda3\\lib\\site-packages (from pyasn1-modules>=0.2.1->google-auth<3,>=1.6.3->tensorboard>=2.4.1->-r requirements.txt (line 17)) (0.4.8)\n",
      "Requirement already satisfied: oauthlib>=3.0.0 in c:\\users\\a846864\\anaconda3\\lib\\site-packages (from requests-oauthlib>=0.7.0->google-auth-oauthlib<0.5,>=0.4.1->tensorboard>=2.4.1->-r requirements.txt (line 17)) (3.2.0)\n"
     ]
    }
   ],
   "source": [
    "!pip install -r requirements.txt"
   ]
  },
  {
   "cell_type": "code",
   "execution_count": 5,
   "id": "b74cda3e",
   "metadata": {},
   "outputs": [],
   "source": [
    "import torch\n",
    "import matplotlib.pyplot as plt \n",
    "import numpy as np\n",
    "import cv2"
   ]
  },
  {
   "cell_type": "code",
   "execution_count": 6,
   "id": "956b68b6",
   "metadata": {},
   "outputs": [],
   "source": [
    "import uuid #unique identifier\n",
    "import os\n",
    "import time"
   ]
  },
  {
   "cell_type": "code",
   "execution_count": 7,
   "id": "3319c387",
   "metadata": {},
   "outputs": [
    {
     "name": "stdout",
     "output_type": "stream",
     "text": [
      "C:\\Users\\a846864\\Documents\\solution_objection\\detection_couteau\n"
     ]
    }
   ],
   "source": [
    "cd .."
   ]
  },
  {
   "cell_type": "code",
   "execution_count": 8,
   "id": "ce4e3cf0",
   "metadata": {},
   "outputs": [],
   "source": [
    "IMAGE_PATH=os.path.join(\"data\",\"images\")\n",
    "labels=[\"couteau\",\"sans\"]\n",
    "number_img=20"
   ]
  },
  {
   "cell_type": "code",
   "execution_count": 9,
   "id": "99489d9a",
   "metadata": {},
   "outputs": [
    {
     "data": {
      "text/plain": [
       "'data\\\\images'"
      ]
     },
     "execution_count": 9,
     "metadata": {},
     "output_type": "execute_result"
    }
   ],
   "source": [
    "IMAGE_PATH"
   ]
  },
  {
   "cell_type": "code",
   "execution_count": 10,
   "id": "fccac6a6",
   "metadata": {},
   "outputs": [
    {
     "data": {
      "text/plain": [
       "'c76cf979-ddf0-11ec-9081-145afc321308'"
      ]
     },
     "execution_count": 10,
     "metadata": {},
     "output_type": "execute_result"
    }
   ],
   "source": [
    "str(uuid.uuid1())"
   ]
  },
  {
   "cell_type": "code",
   "execution_count": 11,
   "id": "45cb5bcb",
   "metadata": {},
   "outputs": [
    {
     "name": "stdout",
     "output_type": "stream",
     "text": [
      "collection of data: couteau\n",
      "collection of data: couteau and number 0\n",
      "collection of data: couteau and number 1\n",
      "collection of data: couteau and number 2\n",
      "collection of data: couteau and number 3\n",
      "collection of data: couteau and number 4\n",
      "collection of data: couteau and number 5\n",
      "collection of data: couteau and number 6\n",
      "collection of data: couteau and number 7\n",
      "collection of data: couteau and number 8\n",
      "collection of data: couteau and number 9\n",
      "collection of data: couteau and number 10\n",
      "collection of data: couteau and number 11\n",
      "collection of data: couteau and number 12\n",
      "collection of data: couteau and number 13\n",
      "collection of data: couteau and number 14\n",
      "collection of data: couteau and number 15\n",
      "collection of data: couteau and number 16\n",
      "collection of data: couteau and number 17\n",
      "collection of data: couteau and number 18\n",
      "collection of data: couteau and number 19\n",
      "collection of data: sans\n",
      "collection of data: sans and number 0\n",
      "collection of data: sans and number 1\n",
      "collection of data: sans and number 2\n",
      "collection of data: sans and number 3\n",
      "collection of data: sans and number 4\n",
      "collection of data: sans and number 5\n",
      "collection of data: sans and number 6\n",
      "collection of data: sans and number 7\n",
      "collection of data: sans and number 8\n",
      "collection of data: sans and number 9\n",
      "collection of data: sans and number 10\n",
      "collection of data: sans and number 11\n",
      "collection of data: sans and number 12\n",
      "collection of data: sans and number 13\n",
      "collection of data: sans and number 14\n",
      "collection of data: sans and number 15\n",
      "collection of data: sans and number 16\n",
      "collection of data: sans and number 17\n",
      "collection of data: sans and number 18\n",
      "collection of data: sans and number 19\n"
     ]
    }
   ],
   "source": [
    "cap=cv2.VideoCapture(0)\n",
    "for label in labels:\n",
    "  print(f\"collection of data: {label}\")\n",
    "  time.sleep(5)\n",
    "  for nb in range(number_img):\n",
    "    print(f\"collection of data: {label} and number {nb}\")\n",
    "\n",
    "    rect,frame=cap.read()\n",
    "    imgname=os.path.join(IMAGE_PATH,label+'.'+str(uuid.uuid1())+\".jpg\")\n",
    "    \n",
    "    cv2.imwrite(imgname,frame)\n",
    "    \n",
    "    cv2.imshow(\"detection\",frame)\n",
    "    time.sleep(2)\n",
    "    if cv2.waitKey(10)& 0xFF==ord('q'):\n",
    "        break\n",
    "    \n",
    "cap.release()\n",
    "cv2.destroyAllWindows()"
   ]
  },
  {
   "cell_type": "code",
   "execution_count": null,
   "id": "65b4eb71",
   "metadata": {},
   "outputs": [],
   "source": [
    "!python train.py --img 320 --batch 16 --epochs 500 --data dataset.yml --weights yolov5s.pt --workers 2"
   ]
  },
  {
   "cell_type": "code",
   "execution_count": null,
   "id": "515b69a7",
   "metadata": {},
   "outputs": [],
   "source": [
    "model = torch.hub.load('ultralytics/yolov5', 'custom', path='yolov5/runs/train/exp/weights/last.pt', force_reload=True)"
   ]
  },
  {
   "cell_type": "code",
   "execution_count": null,
   "id": "e301f781",
   "metadata": {},
   "outputs": [],
   "source": [
    "img = os.path.join('data', 'images', 'badge.f63eede3-ddce-11ec-8529-145afc321308.jpg')"
   ]
  },
  {
   "cell_type": "code",
   "execution_count": null,
   "id": "f5d84cdd",
   "metadata": {},
   "outputs": [],
   "source": [
    "results = model(img)"
   ]
  },
  {
   "cell_type": "code",
   "execution_count": null,
   "id": "2c0edf00",
   "metadata": {},
   "outputs": [],
   "source": [
    "results.print()"
   ]
  },
  {
   "cell_type": "code",
   "execution_count": null,
   "id": "67d85d95",
   "metadata": {},
   "outputs": [],
   "source": [
    "%matplotlib inline \n",
    "plt.imshow(np.squeeze(results.render()))\n",
    "plt.show()"
   ]
  },
  {
   "cell_type": "code",
   "execution_count": null,
   "id": "bfce4df4",
   "metadata": {},
   "outputs": [],
   "source": [
    "cap = cv2.VideoCapture(0)\n",
    "while cap.isOpened():\n",
    "    ret, frame = cap.read()\n",
    "    \n",
    "    # Make detections \n",
    "    results = model(frame)\n",
    "    \n",
    "    cv2.imshow('YOLO', np.squeeze(results.render()))\n",
    "    \n",
    "    if cv2.waitKey(10) & 0xFF == ord('q'):\n",
    "        break\n",
    "cap.release()\n",
    "cv2.destroyAllWindows()"
   ]
  }
 ],
 "metadata": {
  "kernelspec": {
   "display_name": "Python 3 (ipykernel)",
   "language": "python",
   "name": "python3"
  },
  "language_info": {
   "codemirror_mode": {
    "name": "ipython",
    "version": 3
   },
   "file_extension": ".py",
   "mimetype": "text/x-python",
   "name": "python",
   "nbconvert_exporter": "python",
   "pygments_lexer": "ipython3",
   "version": "3.9.7"
  }
 },
 "nbformat": 4,
 "nbformat_minor": 5
}
